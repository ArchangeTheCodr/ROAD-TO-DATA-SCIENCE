{
  "nbformat": 4,
  "nbformat_minor": 0,
  "metadata": {
    "colab": {
      "provenance": [],
      "authorship_tag": "ABX9TyOpgUhTafdgmcUIoId2RMbo",
      "include_colab_link": true
    },
    "kernelspec": {
      "name": "python3",
      "display_name": "Python 3"
    },
    "language_info": {
      "name": "python"
    }
  },
  "cells": [
    {
      "cell_type": "markdown",
      "metadata": {
        "id": "view-in-github",
        "colab_type": "text"
      },
      "source": [
        "<a href=\"https://colab.research.google.com/github/ArchangeTheCodr/ROAD-TO-DATA-SCIENCE/blob/Jour-1/%5BPANDAS%5D_Exercice_1_.ipynb\" target=\"_parent\"><img src=\"https://colab.research.google.com/assets/colab-badge.svg\" alt=\"Open In Colab\"/></a>"
      ]
    },
    {
      "cell_type": "markdown",
      "source": [
        "**Gestion de prets immobilier**"
      ],
      "metadata": {
        "id": "zOdmhecrGDhw"
      }
    },
    {
      "cell_type": "markdown",
      "source": [
        "Enonce de l'exercice : https://colab.research.google.com/github/OpenClassrooms-Student-Center/fr-4452741-decouvrez-les-librairies-python-pour-la-data-science/blob/main/notebooks/P2/P2C2%20-%20Manipulez%20un%20dataframe.ipynb"
      ],
      "metadata": {
        "id": "7lbCivd_F6uy"
      }
    },
    {
      "cell_type": "code",
      "source": [
        "import numpy as np\n",
        "import pandas as pd"
      ],
      "metadata": {
        "id": "4uhElXZSFaK7"
      },
      "execution_count": 67,
      "outputs": []
    },
    {
      "cell_type": "code",
      "execution_count": null,
      "metadata": {
        "id": "loLoOFn_FWfz"
      },
      "outputs": [],
      "source": [
        "prets = pd.read_csv(\"https://raw.githubusercontent.com/OpenClassrooms-Student-Center/fr-4452741-decouvrez-les-librairies-python-pour-la-data-science/main/data/prets.csv\")\n",
        "prets.head()"
      ]
    },
    {
      "cell_type": "markdown",
      "source": [
        "**Taux d'endettement**"
      ],
      "metadata": {
        "id": "DtdH2OpzUajn"
      }
    },
    {
      "cell_type": "code",
      "source": [
        "prets['taux_endettement'] = round(prets['remboursement'] * 100 / prets['revenu'], 2)\n",
        "prets"
      ],
      "metadata": {
        "id": "9SBkzn-_UZPt"
      },
      "execution_count": null,
      "outputs": []
    },
    {
      "cell_type": "markdown",
      "source": [
        "**Renommer la colonne taux en taux d'interet**"
      ],
      "metadata": {
        "id": "jls8O0KSUpVE"
      }
    },
    {
      "cell_type": "code",
      "source": [
        "prets.rename(columns={'taux':'taux_interet'}, inplace=True)\n",
        "prets"
      ],
      "metadata": {
        "id": "x-zTLyb3UtkM"
      },
      "execution_count": null,
      "outputs": []
    },
    {
      "cell_type": "markdown",
      "source": [
        "**Cout total et benefice**"
      ],
      "metadata": {
        "id": "ysfaHcHOUwiD"
      }
    },
    {
      "cell_type": "code",
      "source": [
        "prets['cout_total'] = prets['remboursement'] * prets['duree']\n",
        "prets['benefices'] = round((prets['cout_total'] * prets['taux_interet']/100)/(24), 2)\n",
        "prets"
      ],
      "metadata": {
        "id": "LCjLDGhtU9LG"
      },
      "execution_count": null,
      "outputs": []
    },
    {
      "cell_type": "markdown",
      "source": [
        "**Top 5 benefices**"
      ],
      "metadata": {
        "id": "Vva2nHUXVKMZ"
      }
    },
    {
      "cell_type": "code",
      "source": [
        "prets = prets.sort_values('benefices', ascending=False)\n",
        "prets"
      ],
      "metadata": {
        "id": "wOpQBreXVRgF"
      },
      "execution_count": null,
      "outputs": []
    }
  ]
}