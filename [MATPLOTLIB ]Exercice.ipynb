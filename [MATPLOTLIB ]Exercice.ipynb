{
  "nbformat": 4,
  "nbformat_minor": 0,
  "metadata": {
    "colab": {
      "provenance": [],
      "authorship_tag": "ABX9TyMOAtknVGSVqhL3Acl5iYrf",
      "include_colab_link": true
    },
    "kernelspec": {
      "name": "python3",
      "display_name": "Python 3"
    },
    "language_info": {
      "name": "python"
    }
  },
  "cells": [
    {
      "cell_type": "markdown",
      "metadata": {
        "id": "view-in-github",
        "colab_type": "text"
      },
      "source": [
        "<a href=\"https://colab.research.google.com/github/ArchangeTheCodr/ROAD-TO-DATA-SCIENCE/blob/jour-3/%5BMATPLOTLIB%20%5DExercice.ipynb\" target=\"_parent\"><img src=\"https://colab.research.google.com/assets/colab-badge.svg\" alt=\"Open In Colab\"/></a>"
      ]
    },
    {
      "cell_type": "markdown",
      "source": [
        "Source : https://colab.research.google.com/github/OpenClassrooms-Student-Center/fr-4452741-decouvrez-les-librairies-python-pour-la-data-science/blob/main/notebooks/P3/P3C2%20-%20Tracez%20des%20graphiques%20avec%20Matplotlib.ipynb#scrollTo=05e5172a"
      ],
      "metadata": {
        "id": "2SksqfKnh5hV"
      }
    },
    {
      "cell_type": "code",
      "execution_count": 25,
      "metadata": {
        "id": "7SC-OAh9hmRt"
      },
      "outputs": [],
      "source": [
        "import numpy as np\n",
        "import pandas as pd\n",
        "import matplotlib.pyplot as plt"
      ]
    },
    {
      "cell_type": "code",
      "source": [
        "# traitement réalisés précédemment\n",
        "prets = pd.read_csv('https://raw.githubusercontent.com/OpenClassrooms-Student-Center/fr-4452741-decouvrez-les-librairies-python-pour-la-data-science/main/data/prets_final.csv')\n",
        "\n",
        "prets.head()"
      ],
      "metadata": {
        "id": "D72dgn_6h0wt"
      },
      "execution_count": null,
      "outputs": []
    },
    {
      "cell_type": "code",
      "source": [
        "#Proportion de pret par type de pret\n",
        "data = prets.groupby('type').agg('identifiant').sum()\n",
        "data = data.reset_index()\n",
        "\n",
        "plt.pie(x=data['identifiant'], labels=data['type'], autopct='%2.f%%')"
      ],
      "metadata": {
        "id": "Wn1zu-xSh9sn"
      },
      "execution_count": null,
      "outputs": []
    },
    {
      "cell_type": "code",
      "source": [
        "# le bénéfice mensuel réalisé en fonction du revenu du client\n",
        "\n",
        "plt.scatter(prets['revenu'], prets['benefices'],)"
      ],
      "metadata": {
        "id": "kC6Yx8VCkHXi"
      },
      "execution_count": null,
      "outputs": []
    },
    {
      "cell_type": "code",
      "source": [
        "# la distribution des bénéfices réalisés\n",
        "plt.hist(prets['benefices'])"
      ],
      "metadata": {
        "id": "_Hqs1cuEmYw9"
      },
      "execution_count": null,
      "outputs": []
    },
    {
      "cell_type": "code",
      "source": [
        "benefice = prets.groupby('ville')['benefices'].sum()\n",
        "benefice = benefice.reset_index()\n",
        "plt.bar(benefice['ville'], benefice['benefices'])"
      ],
      "metadata": {
        "id": "klSP1MjkpR5l"
      },
      "execution_count": null,
      "outputs": []
    }
  ]
}