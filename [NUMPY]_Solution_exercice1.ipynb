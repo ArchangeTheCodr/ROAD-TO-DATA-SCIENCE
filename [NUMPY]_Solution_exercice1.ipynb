{
  "nbformat": 4,
  "nbformat_minor": 0,
  "metadata": {
    "colab": {
      "provenance": [],
      "authorship_tag": "ABX9TyOSEomkPjMF4+X046prTskX",
      "include_colab_link": true
    },
    "kernelspec": {
      "name": "python3",
      "display_name": "Python 3"
    },
    "language_info": {
      "name": "python"
    }
  },
  "cells": [
    {
      "cell_type": "markdown",
      "metadata": {
        "id": "view-in-github",
        "colab_type": "text"
      },
      "source": [
        "<a href=\"https://colab.research.google.com/github/ArchangeTheCodr/ROAD-TO-DATA-SCIENCE/blob/Jour-1/%5BNUMPY%5D_Solution_exercice1.ipynb\" target=\"_parent\"><img src=\"https://colab.research.google.com/assets/colab-badge.svg\" alt=\"Open In Colab\"/></a>"
      ]
    },
    {
      "cell_type": "code",
      "execution_count": null,
      "metadata": {
        "id": "C2-bp-yQZ2n9"
      },
      "outputs": [],
      "source": []
    },
    {
      "cell_type": "markdown",
      "source": [
        "Source de l'exercice : https://colab.research.google.com/github/OpenClassrooms-Student-Center/fr-4452741-decouvrez-les-librairies-python-pour-la-data-science/blob/main/notebooks/P1/P1C3%20-%20Cr%C3%A9ez%20vos%20premiers%20arrays%20avec%20Numpy.ipynb"
      ],
      "metadata": {
        "id": "cCEFUah7Z99z"
      }
    },
    {
      "cell_type": "code",
      "source": [
        "import numpy as np"
      ],
      "metadata": {
        "id": "1T4zwz3SaJfQ"
      },
      "execution_count": null,
      "outputs": []
    },
    {
      "cell_type": "code",
      "source": [],
      "metadata": {
        "id": "ffji7m81bQn2"
      },
      "execution_count": null,
      "outputs": []
    },
    {
      "cell_type": "code",
      "source": [
        "# Liste des salaires des clients\n",
        "liste = [1800, 1500, 2200, 3000, 2172, 5000, 1400, 1200, 1100, 1300]\n",
        "liste"
      ],
      "metadata": {
        "id": "n3Zk11kxaUME"
      },
      "execution_count": null,
      "outputs": []
    },
    {
      "cell_type": "code",
      "source": [
        "# Creation de l'array\n",
        "revenus  = np.array(liste)\n",
        "revenus"
      ],
      "metadata": {
        "id": "YPnBjFgqai_p"
      },
      "execution_count": null,
      "outputs": []
    },
    {
      "cell_type": "code",
      "source": [
        "# creation de l'array des revenus superieur a 3000\n",
        "haut_revenus = revenus[revenus >= 3000]\n",
        "haut_revenus"
      ],
      "metadata": {
        "id": "8hZWMfIsa2Gd"
      },
      "execution_count": null,
      "outputs": []
    },
    {
      "cell_type": "code",
      "source": [
        "# calcule de la somme des revenus annuels\n",
        "annuel = revenus * 12\n",
        "somme = annuel.sum()\n",
        "somme"
      ],
      "metadata": {
        "id": "1vqQIGQPb2DI"
      },
      "execution_count": null,
      "outputs": []
    },
    {
      "cell_type": "code",
      "source": [
        "# Moyenne des revenus annuel\n",
        "moyenne = annuel.mean()\n",
        "moyenne"
      ],
      "metadata": {
        "id": "EkQPH-_kdkzd"
      },
      "execution_count": null,
      "outputs": []
    },
    {
      "cell_type": "code",
      "source": [
        "# Ajout de 200 au salaire du client qui gagne 1400\n",
        "revenus[revenus == 1400] = revenus[revenus == 1400] + 200\n"
      ],
      "metadata": {
        "id": "DZRsGzl-eoms"
      },
      "execution_count": null,
      "outputs": []
    },
    {
      "cell_type": "code",
      "source": [
        "# nouvel array des revenus\n",
        "revenus"
      ],
      "metadata": {
        "id": "iBPscQwEfYjc"
      },
      "execution_count": null,
      "outputs": []
    }
  ]
}