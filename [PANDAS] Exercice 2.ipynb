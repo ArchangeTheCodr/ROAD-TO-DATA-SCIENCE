{
  "nbformat": 4,
  "nbformat_minor": 0,
  "metadata": {
    "colab": {
      "provenance": [],
      "authorship_tag": "ABX9TyOdCpeGlYF8klGm6FdVkgRP",
      "include_colab_link": true
    },
    "kernelspec": {
      "name": "python3",
      "display_name": "Python 3"
    },
    "language_info": {
      "name": "python"
    }
  },
  "cells": [
    {
      "cell_type": "markdown",
      "metadata": {
        "id": "view-in-github",
        "colab_type": "text"
      },
      "source": [
        "<a href=\"https://colab.research.google.com/github/ArchangeTheCodr/ROAD-TO-DATA-SCIENCE/blob/jour-2/%5BPANDAS%5D%20Exercice%202.ipynb\" target=\"_parent\"><img src=\"https://colab.research.google.com/assets/colab-badge.svg\" alt=\"Open In Colab\"/></a>"
      ]
    },
    {
      "cell_type": "code",
      "source": [
        "Source : https://colab.research.google.com/github/OpenClassrooms-Student-Center/fr-4452741-decouvrez-les-librairies-python-pour-la-data-science/blob/main/notebooks/P2/P2C3%20-%20Filtrez%20les%20donn%C3%A9es%20du%20data%20frame.ipynb \n",
        "import numpy as np\n",
        "import pandas as pd"
      ],
      "metadata": {
        "id": "eVeasooPB1oK"
      },
      "execution_count": 35,
      "outputs": []
    },
    {
      "cell_type": "code",
      "source": [
        "# traitement réalisés précédemment\n",
        "prets = pd.read_csv('https://raw.githubusercontent.com/OpenClassrooms-Student-Center/fr-4452741-decouvrez-les-librairies-python-pour-la-data-science/main/data/prets.csv')\n",
        "\n",
        "# calcul du taux d'endettement\n",
        "prets['taux_endettement'] = round(prets['remboursement'] * 100 / prets['revenu'], 2)\n",
        "\n",
        "# renommer taux en taux_interet\n",
        "prets.rename(columns={'taux':'taux_interet'}, inplace=True)\n",
        "\n",
        "# calculer le cout total du pret\n",
        "prets['cout_total'] = prets['remboursement'] * prets['duree']\n",
        "\n",
        "# calculer les bénéfices mensuels réalisés\n",
        "prets['benefices'] = round((prets['cout_total'] * prets['taux_interet']/100)/(24), 2)\n",
        "\n",
        "prets.head()"
      ],
      "metadata": {
        "id": "R_Y1sUy0B5ZG"
      },
      "execution_count": null,
      "outputs": []
    },
    {
      "cell_type": "code",
      "source": [
        "#Clients dont le taux d'endettement est superieur a 35%\n",
        "clients_risque = prets.loc[prets['taux_endettement'] > 35, :]\n",
        "print(f'Le nombre de clients a risque est : {clients_risque.shape[0]}. La liste : \\n{clients_risque}')\n"
      ],
      "metadata": {
        "id": "Xt0-MV2OCPzy"
      },
      "execution_count": null,
      "outputs": []
    },
    {
      "cell_type": "code",
      "source": [
        "#Clients de l'agence parisienne dont le taux d'endettement est superieur a 35%\n",
        "clients_risque = prets.loc[(prets['taux_endettement'] > 35) & (prets['ville'] == 'PARIS'), :]\n",
        "print(f'Le nombre de clients de l\\'agence parisienne a risque est : {clients_risque.shape[0]}. La liste : \\n{clients_risque}')\n"
      ],
      "metadata": {
        "id": "AYwY8M4fDqBd"
      },
      "execution_count": null,
      "outputs": []
    },
    {
      "cell_type": "code",
      "source": [
        "#Creation de la variable risque et affectation de la valeur approprie\n",
        "prets['risque'] = 'Non'\n",
        "prets.loc[prets['taux_endettement'] > 35, 'risque'] = 'Oui'\n",
        "prets.head(20)"
      ],
      "metadata": {
        "id": "Cq5HjOctEbI6"
      },
      "execution_count": null,
      "outputs": []
    },
    {
      "cell_type": "code",
      "source": [
        "# Nombre de prêts automobiles  accorder et coût total moyen de ces derniers\n",
        "prets_auto = prets.loc[prets['type'] == 'automobile', 'cout_total']\n",
        "print(f'Le nombre de prets automobile est de {prets_auto.shape[0]} et leurs couts total moyen est de {prets_auto.sum()/prets_auto.shape[0]} euros')"
      ],
      "metadata": {
        "colab": {
          "base_uri": "https://localhost:8080/"
        },
        "id": "VyuLNB97GBb0",
        "outputId": "153d6592-0255-4939-d60f-96247d3d1954"
      },
      "execution_count": 43,
      "outputs": [
        {
          "output_type": "stream",
          "name": "stdout",
          "text": [
            "Le nombre de prets automobile est de 16 et leurs couts total moyen est de 13665.0 euros\n"
          ]
        }
      ]
    },
    {
      "cell_type": "code",
      "source": [
        "# le bénéfice mensuel total réalisé par l’agence Toulousaine\n",
        "benefice_toulouse = prets.loc[prets['ville'] == 'TOULOUSE', 'benefices']\n",
        "print(f'Le benefice mensuel total de l\\'agence de toulouse est de : {benefice_toulouse.sum().round()} euros')\n"
      ],
      "metadata": {
        "colab": {
          "base_uri": "https://localhost:8080/"
        },
        "id": "AyeFXUPKIJMg",
        "outputId": "73841043-a4d7-4ab0-91cc-ddd7e3e542e5"
      },
      "execution_count": 47,
      "outputs": [
        {
          "output_type": "stream",
          "name": "stdout",
          "text": [
            "Le benefice mensuel total de l'agence de toulouse est de : 2138.0 euros\n"
          ]
        }
      ]
    }
  ]
}
