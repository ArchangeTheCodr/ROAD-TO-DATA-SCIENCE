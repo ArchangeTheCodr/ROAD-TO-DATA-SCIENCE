{
  "nbformat": 4,
  "nbformat_minor": 0,
  "metadata": {
    "colab": {
      "provenance": [],
      "authorship_tag": "ABX9TyO1OhP9Yisd2g3V/aEb47hD",
      "include_colab_link": true
    },
    "kernelspec": {
      "name": "python3",
      "display_name": "Python 3"
    },
    "language_info": {
      "name": "python"
    }
  },
  "cells": [
    {
      "cell_type": "markdown",
      "metadata": {
        "id": "view-in-github",
        "colab_type": "text"
      },
      "source": [
        "<a href=\"https://colab.research.google.com/github/ArchangeTheCodr/ROAD-TO-DATA-SCIENCE/blob/Jour-1/%5BNUMPY%5D_Solution_exercice_2.ipynb\" target=\"_parent\"><img src=\"https://colab.research.google.com/assets/colab-badge.svg\" alt=\"Open In Colab\"/></a>"
      ]
    },
    {
      "cell_type": "markdown",
      "source": [
        "Lien vers l'enonce de l'exercice : https://colab.research.google.com/github/OpenClassrooms-Student-Center/fr-4452741-decouvrez-les-librairies-python-pour-la-data-science/blob/main/notebooks/P1/P1C4%20-%20Transformez%20vos%20donn%C3%A9es%20en%20tableaux.ipynb"
      ],
      "metadata": {
        "id": "XhthuuTDrR0W"
      }
    },
    {
      "cell_type": "code",
      "execution_count": 10,
      "metadata": {
        "id": "n3GH2cigmqtT"
      },
      "outputs": [],
      "source": [
        "import numpy as np"
      ]
    },
    {
      "cell_type": "code",
      "source": [
        "hugo = [1800, 21, 0]\n",
        "richard = [1500, 54, 2]\n",
        "emilie = [2200, 28, 3]\n",
        "pierre = [3000, 37, 1]\n",
        "paul = [2172, 37, 2]\n",
        "deborah = [5000, 32, 0]\n",
        "yohann = [1400, 23, 0]\n",
        "anne = [1200, 25, 1]\n",
        "thibault = [1100, 19, 0]\n",
        "emmanuel = [1300, 31, 2]\n",
        "\n",
        "tableau = [hugo, richard, emilie, pierre, paul, deborah,\n",
        "           yohann, anne, thibault, emmanuel]\n",
        "\n",
        "display(tableau)"
      ],
      "metadata": {
        "id": "WEx18rekrasa"
      },
      "execution_count": null,
      "outputs": []
    },
    {
      "cell_type": "markdown",
      "source": [
        "**Creation du tableau multidimensionnel**"
      ],
      "metadata": {
        "id": "OG1PzoO3scn7"
      }
    },
    {
      "cell_type": "code",
      "source": [
        "data = np.array(tableau)\n",
        "display(data)"
      ],
      "metadata": {
        "id": "NFrhsf2brrRf"
      },
      "execution_count": null,
      "outputs": []
    },
    {
      "cell_type": "markdown",
      "source": [
        "**Gestion du pret immobilier de paul**"
      ],
      "metadata": {
        "id": "3-6Ikt_nsigF"
      }
    },
    {
      "cell_type": "code",
      "source": [
        "paul = data[4,:]\n",
        "display(f'Paul gagne {paul[0]} euros mensuellement, il a {paul[1]} ans et {paul[2]} enfant(s) !')\n",
        "mensualite = round(paul[0]*0.35)\n",
        "display(f'Les mensualites maximales de paul sont de : {mensualite} euros !')"
      ],
      "metadata": {
        "colab": {
          "base_uri": "https://localhost:8080/",
          "height": 52
        },
        "id": "_oUTLMS_sn4H",
        "outputId": "482b80d3-6102-4d9e-d829-f17a96df0bb1"
      },
      "execution_count": 21,
      "outputs": [
        {
          "output_type": "display_data",
          "data": {
            "text/plain": [
              "'Paul gagne 2172 euros mensuellement, il a 37 ans et 2 enfant(s) !'"
            ],
            "application/vnd.google.colaboratory.intrinsic+json": {
              "type": "string"
            }
          },
          "metadata": {}
        },
        {
          "output_type": "display_data",
          "data": {
            "text/plain": [
              "'Les mensualites maximales de paul sont de : 760 euros !'"
            ],
            "application/vnd.google.colaboratory.intrinsic+json": {
              "type": "string"
            }
          },
          "metadata": {}
        }
      ]
    },
    {
      "cell_type": "markdown",
      "source": [
        "**Ajout d'une nouvelle cliente**"
      ],
      "metadata": {
        "id": "bqizouU2ulV-"
      }
    },
    {
      "cell_type": "code",
      "source": [
        "louise = [1900, 31, 1]\n",
        "display('l\\'array avant : ', data)\n",
        "data = np.vstack((data, louise))\n",
        "display('l\\'array ensuite : ', data)"
      ],
      "metadata": {
        "id": "dXttJcHHuuRT"
      },
      "execution_count": null,
      "outputs": []
    },
    {
      "cell_type": "markdown",
      "source": [
        "**Creation de l'array des salaires**"
      ],
      "metadata": {
        "id": "pRcW37mZvyA6"
      }
    },
    {
      "cell_type": "code",
      "source": [
        "revenus = []\n",
        "np.array(revenus)\n",
        "\n",
        "revenus = data[:,0]\n",
        "display('Tous les salaires : ', revenus)"
      ],
      "metadata": {
        "id": "U4h8QAafv2gy"
      },
      "execution_count": null,
      "outputs": []
    }
  ]
}